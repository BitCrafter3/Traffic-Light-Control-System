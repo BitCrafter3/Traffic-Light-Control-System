{
  "nbformat": 4,
  "nbformat_minor": 0,
  "metadata": {
    "colab": {
      "provenance": []
    },
    "kernelspec": {
      "name": "python3",
      "display_name": "Python 3"
    },
    "language_info": {
      "name": "python"
    }
  },
  "cells": [
    {
      "cell_type": "code",
      "execution_count": 4,
      "metadata": {
        "colab": {
          "base_uri": "https://localhost:8080/"
        },
        "id": "akpYeIOsjBaH",
        "outputId": "9c76112d-5d79-42cc-e8f0-db79128e33aa"
      },
      "outputs": [
        {
          "output_type": "stream",
          "name": "stdout",
          "text": [
            "Light: Red\n",
            "Light: Green\n",
            "Light: Yellow\n",
            "Light: Red\n",
            "Light: Green\n",
            "Light: Yellow\n",
            "Light: Red\n",
            "Light: Green\n",
            "\n",
            "Exiting Traffic Light Simulation...\n"
          ]
        }
      ],
      "source": [
        "import time\n",
        "\n",
        "def change_light():\n",
        "    lights = [\"Red\", \"Green\", \"Yellow\"]\n",
        "    delays = [5, 5, 2]  # Red: 5s, Green: 5s, Yellow: 2s\n",
        "\n",
        "    while True:\n",
        "        try:\n",
        "            for i in range(3):\n",
        "                print(f\"Light: {lights[i]}\")\n",
        "                time.sleep(delays[i])\n",
        "        except KeyboardInterrupt:\n",
        "            print(\"\\nExiting Traffic Light Simulation...\")\n",
        "            break  # Clean exit\n",
        "\n",
        "if __name__ == \"__main__\":\n",
        "    change_light()\n"
      ]
    }
  ]
}